{
 "cells": [
  {
   "cell_type": "code",
   "execution_count": 2,
   "metadata": {},
   "source": [
    "import pandas as pd\n",
    "\n",
    "data = pd.read_csv(\"pdm_Webcam_L2a_CLOUDINDEX_20220218_v01.csv\", sep=';', skiprows=29)\n",
    "\n",
    "liste_images = [['Webcam_pdm_CLOUDINDEX_20220219_070000_L1a_V02_d.jpg', 'white'],\n",
    "['Webcam_pdm_CLOUDINDEX_20220219_070500_L1a_V02_d.jpg', 'white'],\n",
    "['Webcam_pdm_CLOUDINDEX_20220219_065500_L1a_V02_d.jpg', 'white']]\n",
    "\n",
    "for elem in liste_images:\n",
    "    print(elem)\n",
    "    \n",
    "def listeDateBrouillard(data):\n",
    "    liste = []\n",
    "    for index, row in data.iterrows():\n",
    "        date = row.iloc[0]\n",
    "        if date:\n",
    "            indexFog = row.iloc[1]\n",
    "            liste.append((date, indexFog))\n",
    "    return liste\n",
    "\n",
    "print(listeDateBrouillard(data))\n",
    "\n",
    "#nombre_de_lignes = data.shape[0]-30\n",
    "#tples = []\n",
    "#for i in range((nombre_de_lignes)):\n",
    " #   tples.append((data[lst[0][i],lst[1][i]]))\n",
    "        "
   ],
   "outputs": []
  },
  {
   "cell_type": "code",
   "execution_count": 3,
   "metadata": {},
   "source": [
    "image_test = 'Webcam_pdm_CLOUDINDEX_20220219_070000_L1a_V02_d.jpg'\n",
    "\n",
    "def mise_en_forme(image_test):\n",
    "    split = image_test.split('_')\n",
    "    horaire = split[4]\n",
    "    horaire = horaire[:2]+':'+horaire[2:4]+':'+horaire[4:6]\n",
    "\n",
    "    date = split[3]\n",
    "    date = date[6:8]+'/'+date[4:6]+'/'+date[:4]\n",
    "    sortie = \"\".join(date)+','+horaire\n",
    "    \n",
    "    return sortie\n",
    "\n",
    "\n",
    "for image_list in liste_data:\n",
    "    for elem in lst:\n",
    "        photo = mise_en_forme(elem[0])\n",
    "        if photo == image_list[0]:  # image_list[0] contient la date\n",
    "            print(\"trouvé !\", photo, \"|\", image_list)\n",
    "            # Mettre la valeur -1 à la colonne Cloud_Index pour l'index correspondant\n",
    "            data.at[image_list[2], 'Cloud_Index'] = -1  # image_list[2] est l'index DataFrame\n",
    "\n",
    "data.to_csv('pdm_Webcam_L2a_CLOUDINDEX_20220218_v02.csv', sep=';', index=False)\n",
    "\n",
    "\n"
   ],
   "outputs": []
  }
 ],
 "metadata": {
  "kernelspec": {
   "display_name": "Python 3",
   "language": "python",
   "name": "python3"
  },
  "language_info": {
   "codemirror_mode": {
    "name": "ipython",
    "version": 3
   },
   "file_extension": ".py",
   "mimetype": "text/x-python",
   "name": "python",
   "nbconvert_exporter": "python",
   "pygments_lexer": "ipython3",
   "version": "3.10.11"
  }
 },
 "nbformat": 4,
 "nbformat_minor": 2
}
